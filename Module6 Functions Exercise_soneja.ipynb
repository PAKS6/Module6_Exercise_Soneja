{
 "cells": [
  {
   "cell_type": "markdown",
   "metadata": {},
   "source": [
    "1. Round 4.5667 to the nearest hundreth using a build-in function, round()."
   ]
  },
  {
   "cell_type": "code",
   "execution_count": 4,
   "metadata": {},
   "outputs": [
    {
     "data": {
      "text/plain": [
       "4.57"
      ]
     },
     "execution_count": 4,
     "metadata": {},
     "output_type": "execute_result"
    }
   ],
   "source": [
    "round(4.5667,2)"
   ]
  },
  {
   "cell_type": "markdown",
   "metadata": {},
   "source": [
    "2. Convert \"657\" to an integer data type"
   ]
  },
  {
   "cell_type": "code",
   "execution_count": 1,
   "metadata": {},
   "outputs": [],
   "source": [
    "x=int(657)"
   ]
  },
  {
   "cell_type": "code",
   "execution_count": 1,
   "metadata": {
    "scrolled": true
   },
   "outputs": [
    {
     "name": "stdout",
     "output_type": "stream",
     "text": [
      "657\n"
     ]
    }
   ],
   "source": [
    "#or\n",
    "x=657\n",
    "print(int(657))"
   ]
  },
  {
   "cell_type": "markdown",
   "metadata": {},
   "source": [
    "3.\n",
    "Write a program to get two numbers from a user. Then, create a secret code where a code consists of 6 numbers and each number is randomly generated number between two numbers from a user. "
   ]
  },
  {
   "cell_type": "code",
   "execution_count": 28,
   "metadata": {},
   "outputs": [
    {
     "name": "stdout",
     "output_type": "stream",
     "text": [
      "Enter your first single number 1\n",
      "Enter your second single number 9\n",
      "The secret code is 582468\n"
     ]
    }
   ],
   "source": [
    "import random as rand\n",
    "x= int(input(\"Enter your first single number \"))\n",
    "y= int(input(\"Enter your second single number \"))\n",
    "ran1=rand.randint(x,y)\n",
    "ran2=rand.randint(x,y)\n",
    "ran3=rand.randint(x,y)\n",
    "ran4=rand.randint(x,y)\n",
    "ran5=rand.randint(x,y)\n",
    "ran6=rand.randint(x,y)\n",
    "print(f\"The secret code is {ran1}{ran2}{ran3}{ran4}{ran5}{ran6}\")\n"
   ]
  },
  {
   "cell_type": "markdown",
   "metadata": {},
   "source": [
    "4.\n",
    "Write a program to center align below text where number of characters per line is 40:\n",
    "\n",
    "    Hickory, dickory, dock,\n",
    "    The mouse ran up the clock.\n",
    "    The clock struck one,\n",
    "    The mouse ran down,\n",
    "    Hickory, dickory, dock\n",
    "\n",
    "<b>Do not use string's center method! </b>"
   ]
  },
  {
   "cell_type": "code",
   "execution_count": 14,
   "metadata": {},
   "outputs": [
    {
     "name": "stdout",
     "output_type": "stream",
     "text": [
      "        Hickory, dickory, dock,         \n",
      "      The mouse ran up the clock.       \n",
      "         The clock struck one,          \n",
      "          The mouse ran down,           \n",
      "         Hickory, dickory, dock         \n"
     ]
    }
   ],
   "source": [
    "def center_align ():\n",
    "    print ('{: ^40}'.format(\"Hickory, dickory, dock,\"))\n",
    "    print ('{: ^40}'.format(\"The mouse ran up the clock.\"))\n",
    "    print ('{: ^40}'.format(\"The clock struck one,\"))\n",
    "    print ('{: ^40}'.format(\"The mouse ran down,\"))\n",
    "    print ('{: ^40}'.format(\"Hickory, dickory, dock\"))\n",
    "\n",
    "center_align()\n",
    "\n"
   ]
  },
  {
   "cell_type": "markdown",
   "metadata": {},
   "source": [
    "5. Write a function to calculate the miles per gallon.\n",
    "Get a miles driven and gallons used from a user and call your function to calculate the miles per gallon. "
   ]
  },
  {
   "cell_type": "code",
   "execution_count": 26,
   "metadata": {},
   "outputs": [
    {
     "name": "stdout",
     "output_type": "stream",
     "text": [
      "Enter miles travelled: 456.67\n",
      "Enter gallons used: 48.7\n",
      "The average for this vehicle is 9.38 miles per gallon.\n"
     ]
    }
   ],
   "source": [
    "def calc_miles_per_gallon():\n",
    "       m = float(input(\"Enter miles travelled: \"))\n",
    "       g = float(input(\"Enter gallons used: \"))\n",
    "       avg = m/g\n",
    "       print(f\"The average for this vehicle is {avg:.2f} miles per gallon.\")\n",
    "    \n",
    "    \n",
    "calc_miles_per_gallon()\n"
   ]
  },
  {
   "cell_type": "code",
   "execution_count": null,
   "metadata": {},
   "outputs": [],
   "source": []
  }
 ],
 "metadata": {
  "kernelspec": {
   "display_name": "Python 3 (ipykernel)",
   "language": "python",
   "name": "python3"
  },
  "language_info": {
   "codemirror_mode": {
    "name": "ipython",
    "version": 3
   },
   "file_extension": ".py",
   "mimetype": "text/x-python",
   "name": "python",
   "nbconvert_exporter": "python",
   "pygments_lexer": "ipython3",
   "version": "3.9.7"
  }
 },
 "nbformat": 4,
 "nbformat_minor": 4
}
